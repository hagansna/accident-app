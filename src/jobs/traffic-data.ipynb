{
 "cells": [
  {
   "cell_type": "code",
   "execution_count": 12,
   "metadata": {},
   "outputs": [],
   "source": [
    "import pandas as pd\n",
    "import sqlite3\n",
    "import pymysql.cursors\n",
    "from dotenv import load_dotenv\n",
    "import requests\n",
    "import zipfile\n",
    "import shutil\n",
    "import math\n",
    "\n",
    "# Load environment variables from the .env file\n",
    "load_dotenv()\n",
    "import os"
   ]
  },
  {
   "cell_type": "code",
   "execution_count": 19,
   "metadata": {},
   "outputs": [],
   "source": [
    "url = \"https://static.nhtsa.gov/nhtsa/downloads/CRSS/2016/CRSS2016CSV.zip\"\n",
    "\n",
    "response = requests.get(url).content\n",
    "filename = \"CRSS2016CSV\"\n",
    "zip_file = filename + \".zip\"\n",
    "with open(zip_file, \"wb\") as f:\n",
    "        f.write(response)\n",
    "\n",
    "# Unzip the file\n",
    "with zipfile.ZipFile(zip_file, \"r\") as zip_ref:\n",
    "        zip_ref.extractall(filename)"
   ]
  },
  {
   "cell_type": "code",
   "execution_count": 14,
   "metadata": {},
   "outputs": [
    {
     "name": "stdout",
     "output_type": "stream",
     "text": [
      "CRSS2021CSV/vehicle.csv\n",
      "here\n"
     ]
    }
   ],
   "source": [
    "csv_path = '%s/vehicle.csv' % filename\n",
    "if not os.path.isfile(csv_path):\n",
    "    print(csv_path)\n",
    "    print('here')"
   ]
  },
  {
   "cell_type": "code",
   "execution_count": 15,
   "metadata": {},
   "outputs": [],
   "source": [
    "shutil.rmtree(filename)\n",
    "os.remove(zip_file)"
   ]
  },
  {
   "cell_type": "code",
   "execution_count": 9,
   "metadata": {},
   "outputs": [
    {
     "name": "stdout",
     "output_type": "stream",
     "text": [
      "CASENUM`,`VEH_NO`,`VehicleDescriptor`,`VINDecodedOn`,`VINDecodeError`,`VehicleTypeId`,`VehicleType`,`ManufacturerFullNameId`,`ManufacturerFullName`,`MakeId`,`Make`,`ModelId`,`Model`,`ModelYear`,`Series`,`Trim`,`Series2`,`Trim2`,`PlantCountryId`,`PlantCountry`,`PlantState`,`PlantCity`,`PlantCompanyName`,`DestinationMarketId`,`DestinationMarket`,`BasePrice`,`Note`,`BodyClassId`,`BodyClass`,`DoorsCount`,`Windows`,`WheelBaseTypeId`,`WheelBaseType`,`TrackWidthIN`,`GrossVehicleWeightRatingFromId`,`GrossVehicleWeightRatingFrom`,`GrossVehicleWeightRatingToId`,`GrossVehicleWeightRatingTo`,`GrossCombWeightRatingFromId`,`GrossCombWeightRatingFrom`,`GrossCombWeightRatingToId`,`GrossCombWeightRatingTo`,`CurbWeightLB`,`WheelBaseIN_from`,`WheelBaseIN_To`,`WheelsCount`,`WheelSizeFrontIN`,`WheelSizeRearIN`,`TruckBodyCabTypeId`,`TruckBodyCabType`,`TruckBedTypeId`,`TruckBedType`,`TruckBedLengthIN`,`BusTypeId`,`BusType`,`BusFloorConfigurationTypeId`,`BusFloorConfigurationType`,`BusLengthFT`,`OtherBusInfo`,`CustomMotorcycleTypeId`,`CustomMotorcycleType`,`MotorcycleSuspensionTypeId`,`MotorcycleSuspensionType`,`MotorcycleChassisTypeId`,`MotorcycleChassisType`,`OtherMotorcycleInfo`,`SteeringLocationId`,`SteeringLocation`,`EntertainmentSystemId`,`EntertainmentSystem`,`SeatsCount`,`SeatRowsCount`,`TransmissionSpeeds`,`TransmissionStyleId`,`TransmissionStyle`,`DriveTypeId`,`DriveType`,`AxlesCount`,`AxleConfigurationId`,`AxleConfiguration`,`BrakeSystemTypeId`,`BrakeSystemType`,`BrakeSystemDesc`,`EVDriveUnitId`,`EVDriveUnit`,`BatteryKWh_From`,`BatteryKWh_to`,`BatteryV_From`,`BatteryV_to`,`BatteryA_From`,`BatteryA_to`,`BatteryPacksPerVehicle`,`BatteryModulesPerPack`,`BatteryCellsPerModule`,`BatteryTypeId`,`BatteryType`,`OtherBatteryInfo`,`ChargerLevelId`,`ChargerLevel`,`ChargerPowerKW`,`EngineManufacturer`,`EngineModel`,`EngineConfigurationId`,`EngineConfiguration`,`EnginePowerKW`,`EngineStrokeCycles`,`EngineCylindersCount`,`EngineBrakeHP_From`,`EngineBrakeHP_To`,`EngineCoolingTypeId`,`EngineCoolingType`,`DisplacementCI`,`DisplacementCC`,`DisplacementL`,`FuelTypePrimaryId`,`FuelTypePrimary`,`FuelTypeSecondaryId`,`FuelTypeSecondary`,`FuelDeliveryInjectionTypeId`,`FuelDeliveryInjectionType`,`EngineValveTrainDesignId`,`EngineValveTrainDesign`,`EngineElectrificationLevelId`,`EngineElectrificationLevel`,`EngineTurboId`,`EngineTurbo`,`TopSpeedMPH`,`OtherEngineInfo`,`SeatBeltTypeId`,`SeatBeltType`,`PretensionerId`,`Pretensioner`,`AirBagLocFrontId`,`AirBagLocFront`,`AirBagLocKneeId`,`AirBagLocKnee`,`AirBagLocSideId`,`AirBagLocSide`,`AirBagLocCurtainId`,`AirBagLocCurtain`,`AirBagLocSeatCushionId`,`AirBagLocSeatCushion`,`OtherRestraintSystemInfo`,`ForwardCollisionWarningId`,`ForwardCollisionWarning`,`DynamicBrakeSupportId`,`DynamicBrakeSupport`,`CrashImminentBrakingID`,`CrashImminentBraking`,`PedestrianAutoEmergencyBrakingId`,`PedestrianAutoEmergencyBraking`,`BlindSpotWarningId`,`BlindSpotWarning`,`BlindSpotInterventionId`,`BlindSpotIntervention`,`LaneDepartureWarningId`,`LaneDepartureWarning`,`LaneKeepingAssistanceId`,`LaneKeepingAssistance`,`LaneCenteringAssistanceId`,`LaneCenteringAssistance`,`BackupCameraId`,`BackupCamera`,`RearCrossTrafficAlertId`,`RearCrossTrafficAlert`,`RearAutomaticEmergencyBrakingId`,`RearAutomaticEmergencyBraking`,`ParkAssistId`,`ParkAssist`,`DaytimeRunningLightId`,`DaytimeRunningLight`,`HeadlampLightSourceId`,`HeadlampLightSource`,`SemiAutoHeadlampBeamSwitchingId`,`SemiAutoHeadlampBeamSwitching`,`AdaptiveDrivingBeamId`,`AdaptiveDrivingBeam`,`AdaptiveCruiseControlId`,`AdaptiveCruiseControl`,`AntilockBrakeSystemId`,`AntilockBrakeSystem`,`ElectronicStabilityControlId`,`ElectronicStabilityControl`,`TPMSId`,`TPMS`,`AutomaticCrashNotificationId`,`AutomaticCrashNotification`,`EventDataRecorderId`,`EventDataRecorder`,`TractionControlId`,`TractionControl`,`AutoPedestrianAlertingSoundId`,`AutoPedestrianAlertingSound`,`KeylessIgnitionId`,`KeylessIgnition`,`SAEAutomationLevel_From`,`SAEAutomationLevel_to`,`AutoReverseSystemId`,`AutoReverseSystem`,`ActiveSafetySysNote\n",
      "MULTIPURPOSE PASSENGER VEHICLE (MPV)\n"
     ]
    }
   ],
   "source": [
    "csv_path = 'CRSS2021CSV/CRSS2021CSV/vpicdecode.csv'\n",
    "chunk_generator = pd.read_csv(csv_path, encoding=\"ISO-8859-1\", chunksize=1000)\n",
    "\n",
    "first = next(chunk_generator)\n",
    "for index, row in first.iloc[:].iterrows():\n",
    "    if index == 0:\n",
    "        cols = \"`,`\".join([str(i) for i in first.columns.tolist()])\n",
    "        print(cols)\n",
    "    elif index == 1:\n",
    "        print(row['VehicleType'])\n",
    "\n",
    "# Continue iterating through the rest of the chunks\n",
    "#for chunk in chunk_generator:\n",
    "#    for index, row in chunk.iterrows():\n",
    "#        # Process each row in subsequent chunks\n",
    "#        if index < 10:\n",
    "#            print(row.keys())\n",
    "#        else:\n",
    "#            continue"
   ]
  },
  {
   "cell_type": "code",
   "execution_count": 16,
   "metadata": {},
   "outputs": [],
   "source": [
    "# Connect to the database\n",
    "connection = pymysql.connect(host=os.getenv(\"DATABASE_HOST\"),\n",
    "                             user=os.getenv(\"DATABASE_USERNAME\"),\n",
    "                             password=os.getenv(\"DATABASE_PASSWORD\"),\n",
    "                             database=os.getenv(\"DATABASE\"),\n",
    "                             ssl={'ca': os.getenv(\"CA_CERT_PATH\")},\n",
    "                             cursorclass=pymysql.cursors.DictCursor)\n",
    "\n",
    "date_range = range(2016, 2022)\n",
    "# for d in date_range:\n",
    "#     url = \"https://static.nhtsa.gov/nhtsa/downloads/CRSS/%s/CRSS%sCSV.zip\" % (d, d)\n",
    "#     response = requests.get(url)\n",
    "#     filename = \"CRSS%sCSV\" % d\n",
    "#     zip_file = filename + \".zip\"\n",
    "#     with open(zip_file, \"wb\") as f:\n",
    "#         f.write(response.content)\n",
    "\n",
    "#     # Unzip the file\n",
    "#     with zipfile.ZipFile(zip_file, \"r\") as zip_ref:\n",
    "#         zip_ref.extractall(filename)\n",
    "\n",
    "with connection:\n",
    "    with connection.cursor() as cursor:\n",
    "        # sqlQuery = \"CREATE TABLE Accidents(Case_Num varchar(32), VEH_Num int, Occupation_Num int, Hit_Run int, VIN varchar(32), Model_Year varchar(32), Make int, Model int)\"\n",
    "        for d in date_range:\n",
    "            url = \"https://static.nhtsa.gov/nhtsa/downloads/CRSS/%s/CRSS%sCSV.zip\" % (d, d)\n",
    "            response = requests.get(url)\n",
    "            filename = \"CRSS%sCSV\" % d\n",
    "            zip_file = filename + \".zip\"\n",
    "            with open(zip_file, \"wb\") as f:\n",
    "                f.write(response.content)\n",
    "\n",
    "            # Unzip the file\n",
    "            with zipfile.ZipFile(zip_file, \"r\") as zip_ref:\n",
    "                zip_ref.extractall(filename)\n",
    "            csv_path = '%s/vehicle.csv' % filename\n",
    "            if not os.path.isfile(csv_path):\n",
    "                csv_path = '%s/VEHICLE.CSV' % filename\n",
    "                if not os.path.isfile(csv_path):\n",
    "                    csv_path = '%s/VEHICLE.csv' % filename\n",
    "                    if not os.path.isfile(csv_path):\n",
    "                        csv_path = '%s/%s/vehicle.csv' % (filename, filename)\n",
    "            chunk_generator = pd.read_csv(csv_path, chunksize=1000, encoding=\"ISO-8859-1\", usecols=['CASENUM', 'VEH_NO', 'NUMOCCS', 'HIT_RUN', 'VIN', 'MDLYR_IM', 'MAKE', 'MODEL'])\n",
    "\n",
    "            # first = next(chunk_generator)\n",
    "            for chunk in chunk_generator:\n",
    "                batch = []\n",
    "                for index, row in chunk.iterrows():\n",
    "                    id = str(row['CASENUM']) + '-' + str(row['VEH_NO'])\n",
    "                    batch.append((id, row['CASENUM'], row['VEH_NO'], row['NUMOCCS'], row['HIT_RUN'], row['VIN'], row['MDLYR_IM'], row['MAKE'], row['MODEL']))\n",
    "                cursor.executemany('INSERT INTO Accidents (id, Case_Num, VEH_Num, Occupation_Num, Hit_Run, VIN, Model_Year, Model, Make) values (%s, %s, %s, %s, %s, %s, %s, %s, %s)', batch)\n",
    "                        # if index == 0:\n",
    "                        #     print(row.keys())\n",
    "                        # elif index == 1:\n",
    "                        #     print(row['VIN'])\n",
    "                # Execute \"SHOW TABLES\" query\n",
    "                # cursor.execute(sqlQuery)\n",
    "            connection.commit()\n",
    "\n",
    "\n",
    "                # cursor.execute(\"SHOW TABLES\")\n",
    "\n",
    "                # Fetch all the rows\n",
    "                # tables = cursor.fetchall()\n",
    "\n",
    "                # Print out the tables\n",
    "                # print(\"Tables in the database:\")\n",
    "                # for table in tables:\n",
    "                #     print(table)\n",
    "                # Delete the zip file\n",
    "            shutil.rmtree(filename)\n",
    "            os.remove(zip_file)\n"
   ]
  },
  {
   "cell_type": "code",
   "execution_count": 16,
   "metadata": {},
   "outputs": [
    {
     "ename": "TypeError",
     "evalue": "fillna() takes from 1 to 2 positional arguments but 3 positional arguments (and 1 keyword-only argument) were given",
     "output_type": "error",
     "traceback": [
      "\u001b[0;31m---------------------------------------------------------------------------\u001b[0m",
      "\u001b[0;31mTypeError\u001b[0m                                 Traceback (most recent call last)",
      "\u001b[1;32m/home/hagansna/projects/traffic/traffic-data.ipynb Cell 7\u001b[0m line \u001b[0;36m4\n\u001b[1;32m     <a href='vscode-notebook-cell:/home/hagansna/projects/traffic/traffic-data.ipynb#X11sZmlsZQ%3D%3D?line=44'>45</a>\u001b[0m \u001b[39m# first = next(chunk_generator)\u001b[39;00m\n\u001b[1;32m     <a href='vscode-notebook-cell:/home/hagansna/projects/traffic/traffic-data.ipynb#X11sZmlsZQ%3D%3D?line=45'>46</a>\u001b[0m \u001b[39mfor\u001b[39;00m chunk \u001b[39min\u001b[39;00m chunk_generator:\n\u001b[0;32m---> <a href='vscode-notebook-cell:/home/hagansna/projects/traffic/traffic-data.ipynb#X11sZmlsZQ%3D%3D?line=46'>47</a>\u001b[0m     chunk\u001b[39m.\u001b[39;49mfillna(\u001b[39m-\u001b[39;49m\u001b[39m1\u001b[39;49m, \u001b[39m1\u001b[39;49m, inplace\u001b[39m=\u001b[39;49m\u001b[39mTrue\u001b[39;49;00m)\n\u001b[1;32m     <a href='vscode-notebook-cell:/home/hagansna/projects/traffic/traffic-data.ipynb#X11sZmlsZQ%3D%3D?line=47'>48</a>\u001b[0m     batch \u001b[39m=\u001b[39m []\n\u001b[1;32m     <a href='vscode-notebook-cell:/home/hagansna/projects/traffic/traffic-data.ipynb#X11sZmlsZQ%3D%3D?line=48'>49</a>\u001b[0m     \u001b[39mfor\u001b[39;00m index, row \u001b[39min\u001b[39;00m chunk\u001b[39m.\u001b[39miterrows():\n",
      "\u001b[0;31mTypeError\u001b[0m: fillna() takes from 1 to 2 positional arguments but 3 positional arguments (and 1 keyword-only argument) were given"
     ]
    }
   ],
   "source": [
    "# Connect to the database\n",
    "connection = pymysql.connect(host=os.getenv(\"DATABASE_HOST\"),\n",
    "                             user=os.getenv(\"DATABASE_USERNAME\"),\n",
    "                             password=os.getenv(\"DATABASE_PASSWORD\"),\n",
    "                             database=os.getenv(\"DATABASE\"),\n",
    "                             ssl={'ca': os.getenv(\"CA_CERT_PATH\")},\n",
    "                             cursorclass=pymysql.cursors.DictCursor)\n",
    "\n",
    "date_range = range(2016, 2022)\n",
    "# for d in date_range:\n",
    "#     url = \"https://static.nhtsa.gov/nhtsa/downloads/CRSS/%s/CRSS%sCSV.zip\" % (d, d)\n",
    "#     response = requests.get(url)\n",
    "#     filename = \"CRSS%sCSV\" % d\n",
    "#     zip_file = filename + \".zip\"\n",
    "#     with open(zip_file, \"wb\") as f:\n",
    "#         f.write(response.content)\n",
    "\n",
    "#     # Unzip the file\n",
    "#     with zipfile.ZipFile(zip_file, \"r\") as zip_ref:\n",
    "#         zip_ref.extractall(filename)\n",
    "cols = ['CASENUM', 'VEH_NO', 'VehicleDescriptor', 'VehicleTypeId', 'VehicleType', 'ManufacturerFullNameId', 'ManufacturerFullName', 'MakeId', 'Make', 'ModelId', 'Model', 'PlantCountryId', 'PlantCountry', 'PlantState', 'PlantCity', 'PlantCompanyName', 'BasePrice']\n",
    "with connection:\n",
    "    with connection.cursor() as cursor:\n",
    "        # sqlQuery = \"CREATE TABLE Accidents(Case_Num varchar(32), VEH_Num int, Occupation_Num int, Hit_Run int, VIN varchar(32), Model_Year varchar(32), Make int, Model int)\"\n",
    "        for d in date_range:\n",
    "            url = \"https://static.nhtsa.gov/nhtsa/downloads/CRSS/%s/CRSS%sCSV.zip\" % (d, d)\n",
    "            response = requests.get(url)\n",
    "            filename = \"CRSS%sCSV\" % d\n",
    "            zip_file = filename + \".zip\"\n",
    "            with open(zip_file, \"wb\") as f:\n",
    "                f.write(response.content)\n",
    "\n",
    "            # Unzip the file\n",
    "            with zipfile.ZipFile(zip_file, \"r\") as zip_ref:\n",
    "                zip_ref.extractall(filename)\n",
    "            csv_path = '%s/vpicdecode.csv' % filename\n",
    "            if not os.path.isfile(csv_path):\n",
    "                csv_path = '%s/VPICDECODE.CSV' % filename\n",
    "                if not os.path.isfile(csv_path):\n",
    "                    csv_path = '%s/VPICDECODE.csv' % filename\n",
    "                    if not os.path.isfile(csv_path):\n",
    "                        csv_path = '%s/%s/vpicdecode.csv' % (filename, filename)\n",
    "            chunk_generator = pd.read_csv(csv_path, chunksize=1000, encoding=\"ISO-8859-1\", usecols=cols)\n",
    "\n",
    "            # first = next(chunk_generator)\n",
    "            for chunk in chunk_generator:\n",
    "                chunk.fillna(-1, inplace=True)\n",
    "                batch = []\n",
    "                for index, row in chunk.iterrows():\n",
    "                    batch.append((row['CASENUM'], row['VEH_NO'], row['VehicleDescriptor'], row['VehicleTypeId'], row['VehicleType'], row['ManufacturerFullNameId'], row['ManufacturerFullName'], row['MakeId'], row['Make'], row['ModelId'], row['Model'], row['PlantCountryId'], row['PlantCountry'], row['PlantState'], row['PlantCity'], row['PlantCompanyName'], row['BasePrice']))\n",
    "                q = 'INSERT INTO vpicdecode (CASENUM, VEH_NO, VehicleDescriptor, VehicleTypeId, VehicleType, ManufacturerFullNameId, ManufacturerFullName, MakeId, Make, ModelId, Model, PlantCountryId, PlantCountry, PlantState, PlantCity, PlantCompanyName, BasePrice) values (' + '%s,' * (len(cols) - 1) + '%s)'\n",
    "                cursor.executemany(q, batch)\n",
    "                        # if index == 0:\n",
    "                        #     print(row.keys())\n",
    "                        # elif index == 1:\n",
    "                        #     print(row['VIN'])\n",
    "                # Execute \"SHOW TABLES\" query\n",
    "                # cursor.execute(sqlQuery)\n",
    "            connection.commit()\n",
    "\n",
    "\n",
    "                # cursor.execute(\"SHOW TABLES\")\n",
    "\n",
    "                # Fetch all the rows\n",
    "                # tables = cursor.fetchall()\n",
    "\n",
    "                # Print out the tables\n",
    "                # print(\"Tables in the database:\")\n",
    "                # for table in tables:\n",
    "                #     print(table)\n",
    "                # Delete the zip file\n",
    "            shutil.rmtree(filename)\n",
    "            os.remove(zip_file)\n"
   ]
  },
  {
   "cell_type": "code",
   "execution_count": null,
   "metadata": {},
   "outputs": [],
   "source": [
    "sqlQuery = \"CREATE TABLE Accidents(Case_Num varchar(32), VEH_Num int, Occupation_Num int, Hit_Run int, VIN varchar(32), Model_Year varchar(32), Make int, Model int)\"\n",
    "\n",
    "sqlQuery2 = \"CREATE TABLE vpicdecode(CASENUM varchar(31),VEH_NO int,VehicleDescriptor varchar(255),VehicleTypeId int,VehicleType varchar(255),ManufacturerFullNameId int,ManufacturerFullName varchar(255),MakeId int,Make varchar(127),ModelId int,Model varchar(127),PlantCountryId int,PlantCountry varchar(63),PlantState varchar(63),PlantCity varchar(63),PlantCompanyName varchar(63),BasePrice dec, PRIMARY KEY (CASENUM, VEH_NO));\""
   ]
  },
  {
   "cell_type": "code",
   "execution_count": 51,
   "metadata": {},
   "outputs": [
    {
     "name": "stdout",
     "output_type": "stream",
     "text": [
      "('A-1', 'Source2', 3, '2016-02-08 05:46:00', '2016-02-08 11:00:00', 39.865147, -84.058723, nan, nan, 0.01, 'Right lane blocked due to accident on I-70 Eastbound at Exit 41 OH-235 State Route 4.', 'I-70 E', 'Dayton', 'Montgomery', 'OH', '45424', 'US', 'US/Eastern', 'KFFO', '2016-02-08 05:58:00', 36.9, nan, 91.0, 29.68, 10.0, 'Calm', nan, 0.02, 'Light Rain', False, False, False, False, False, False, False, False, False, False, False, False, False, 'Night', 'Night', 'Night', 'Night')\n"
     ]
    },
    {
     "ename": "OperationalError",
     "evalue": "near \"(\": syntax error",
     "output_type": "error",
     "traceback": [
      "\u001b[0;31m---------------------------------------------------------------------------\u001b[0m",
      "\u001b[0;31mOperationalError\u001b[0m                          Traceback (most recent call last)",
      "\u001b[1;32m/home/hagansna/projects/traffic/traffic-data.ipynb Cell 2\u001b[0m line \u001b[0;36m3\n\u001b[1;32m     <a href='vscode-notebook-cell:/home/hagansna/projects/traffic/traffic-data.ipynb#W1sZmlsZQ%3D%3D?line=26'>27</a>\u001b[0m \u001b[39mfor\u001b[39;00m chunk \u001b[39min\u001b[39;00m chunk_generator:\n\u001b[1;32m     <a href='vscode-notebook-cell:/home/hagansna/projects/traffic/traffic-data.ipynb#W1sZmlsZQ%3D%3D?line=27'>28</a>\u001b[0m     \u001b[39mfor\u001b[39;00m index, row \u001b[39min\u001b[39;00m chunk\u001b[39m.\u001b[39miterrows():\n\u001b[1;32m     <a href='vscode-notebook-cell:/home/hagansna/projects/traffic/traffic-data.ipynb#W1sZmlsZQ%3D%3D?line=28'>29</a>\u001b[0m         \u001b[39m# Process each row in subsequent chunks\u001b[39;00m\n\u001b[0;32m---> <a href='vscode-notebook-cell:/home/hagansna/projects/traffic/traffic-data.ipynb#W1sZmlsZQ%3D%3D?line=29'>30</a>\u001b[0m         add_to_db(row)\n\u001b[1;32m     <a href='vscode-notebook-cell:/home/hagansna/projects/traffic/traffic-data.ipynb#W1sZmlsZQ%3D%3D?line=32'>33</a>\u001b[0m \u001b[39m# commit the changes\u001b[39;00m\n\u001b[1;32m     <a href='vscode-notebook-cell:/home/hagansna/projects/traffic/traffic-data.ipynb#W1sZmlsZQ%3D%3D?line=33'>34</a>\u001b[0m conn\u001b[39m.\u001b[39mcommit()\n",
      "\u001b[1;32m/home/hagansna/projects/traffic/traffic-data.ipynb Cell 2\u001b[0m line \u001b[0;36m2\n\u001b[1;32m     <a href='vscode-notebook-cell:/home/hagansna/projects/traffic/traffic-data.ipynb#W1sZmlsZQ%3D%3D?line=17'>18</a>\u001b[0m r \u001b[39m=\u001b[39m \u001b[39mtuple\u001b[39m(all_values)\n\u001b[1;32m     <a href='vscode-notebook-cell:/home/hagansna/projects/traffic/traffic-data.ipynb#W1sZmlsZQ%3D%3D?line=18'>19</a>\u001b[0m \u001b[39mprint\u001b[39m(r)\n\u001b[0;32m---> <a href='vscode-notebook-cell:/home/hagansna/projects/traffic/traffic-data.ipynb#W1sZmlsZQ%3D%3D?line=19'>20</a>\u001b[0m c\u001b[39m.\u001b[39;49mexecute(sql, r)\n",
      "\u001b[0;31mOperationalError\u001b[0m: near \"(\": syntax error"
     ]
    }
   ],
   "source": [
    "def add_to_db(row):\n",
    "    # create a cursor\n",
    "    c = conn.cursor()\n",
    "\n",
    "    cols = \", \".join(row.keys())\n",
    "\n",
    "    sql = '''\n",
    "        INSERT INTO accidents_table (''' + cols + '''\n",
    "        ) VALUES (\n",
    "            ?, ?, ?, ?, ?, ?, ?, ?, ?, ?, ?, ?, ?, ?, ?, ?, ?, ?, ?, ?, ?, ?, ?, ?, ?, ?, ?, ?, ?, ?, ?, ?, ?, ?,\n",
    "            ?, ?, ?, ?, ?, ?, ?, ?, ?, ?, ?, ?\n",
    "        )\n",
    "    '''\n",
    "    all_values = []\n",
    "    for (key, value) in row.items():\n",
    "        all_values.append(value)\n",
    "    # Execute the SQL command with the provided data\n",
    "    r = tuple(all_values)\n",
    "    print(r)\n",
    "    c.execute(sql, r)\n",
    "\n",
    "\n",
    "chunk_generator = pd.read_csv(\"US_Accidents_March23.csv\", chunksize=1000)\n",
    "conn = sqlite3.connect('accidents.sqlite')\n",
    "\n",
    "# Continue iterating through the rest of the chunks\n",
    "for chunk in chunk_generator:\n",
    "    for index, row in chunk.iterrows():\n",
    "        # Process each row in subsequent chunks\n",
    "        add_to_db(row)\n",
    "\n",
    "\n",
    "# commit the changes\n",
    "conn.commit()\n",
    "# close the connection\n",
    "conn.close()"
   ]
  }
 ],
 "metadata": {
  "kernelspec": {
   "display_name": "Python 3",
   "language": "python",
   "name": "python3"
  },
  "language_info": {
   "codemirror_mode": {
    "name": "ipython",
    "version": 3
   },
   "file_extension": ".py",
   "mimetype": "text/x-python",
   "name": "python",
   "nbconvert_exporter": "python",
   "pygments_lexer": "ipython3",
   "version": "3.9.2"
  }
 },
 "nbformat": 4,
 "nbformat_minor": 2
}
