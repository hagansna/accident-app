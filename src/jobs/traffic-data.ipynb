{
 "cells": [
  {
   "cell_type": "code",
   "execution_count": 3,
   "metadata": {},
   "outputs": [],
   "source": [
    "import pandas as pd\n",
    "import sqlite3\n",
    "import pymysql.cursors\n",
    "from dotenv import load_dotenv\n",
    "import requests\n",
    "import zipfile\n",
    "import shutil\n",
    "import math\n",
    "\n",
    "# Load environment variables from the .env file\n",
    "load_dotenv()\n",
    "import os"
   ]
  },
  {
   "cell_type": "code",
   "execution_count": 11,
   "metadata": {},
   "outputs": [],
   "source": [
    "# Connect to the database\n",
    "connection = pymysql.connect(host=os.getenv(\"DATABASE_HOST\"),\n",
    "                             user=os.getenv(\"DATABASE_USERNAME\"),\n",
    "                             password=os.getenv(\"DATABASE_PASSWORD\"),\n",
    "                             database=os.getenv(\"DATABASE\"),\n",
    "                             ssl={'ca': os.getenv(\"CA_CERT_PATH\")},\n",
    "                             cursorclass=pymysql.cursors.DictCursor)\n",
    "\n",
    "date_range = range(2016, 2022)\n",
    "tables = ['vpicdecode', 'vehicle']\n",
    "columns = {\"vpicdecode\": ['CASENUM', 'VEH_NO', 'VehicleDescriptor', 'VehicleTypeId', 'VehicleType', 'ManufacturerFullNameId', 'ManufacturerFullName', 'MakeId', 'Make', 'ModelId', 'Model', 'PlantCountryId', 'PlantCountry', 'PlantState', 'PlantCity', 'PlantCompanyName', 'BasePrice'],\n",
    "           \"vehicle\": ['CASENUM', 'VEH_NO', 'NUMOCCS', 'HIT_RUN', 'VIN', 'MDLYR_IM']}\n",
    "\n",
    "def add_to_db(table_name, chunk, cols):\n",
    "    chunk.fillna(-1, inplace=True)\n",
    "    batch = []\n",
    "    for index, row in chunk.iterrows():\n",
    "        t = tuple(row[col_label] for col_label in cols)\n",
    "        batch.append(t)\n",
    "    q = 'REPLACE INTO ' + table_name + ' (' + \", \".join(cols) + ') values (' + '%s,' * (len(cols) - 1) + '%s)'\n",
    "    cursor.executemany(q, batch)\n",
    "\n",
    "def parse_files_and_add_to_db(table_name, filename, columns):\n",
    "    csv_path = \"\"\n",
    "    path_options = ['%s/%s.csv' % (filename, table_name),\n",
    "                    '%s/%s.CSV' % (filename, table_name.upper()),\n",
    "                    '%s/%s.csv' % (filename, table_name.upper()),\n",
    "                    '%s/%s/%s.csv' % (filename, filename, table_name)]\n",
    "    for path in path_options:\n",
    "        if os.path.isfile(path):\n",
    "            csv_path = path\n",
    "\n",
    "    chunk_generator = pd.read_csv(csv_path, chunksize=1000, encoding=\"ISO-8859-1\", usecols=columns)\n",
    "\n",
    "    for chunk in chunk_generator:\n",
    "        add_to_db(table_name, chunk, columns)\n",
    "\n",
    "with connection:\n",
    "    with connection.cursor() as cursor:\n",
    "        # sqlQuery = \"CREATE TABLE Vehicles(Case_Num varchar(32), VEH_Num int, Occupation_Num int, Hit_Run int, VIN varchar(32), Model_Year varchar(32), Make int, Model int)\"\n",
    "        for d in date_range:\n",
    "            url = \"https://static.nhtsa.gov/nhtsa/downloads/CRSS/%s/CRSS%sCSV.zip\" % (d, d)\n",
    "            response = requests.get(url)\n",
    "            filename = \"CRSS%sCSV\" % d\n",
    "            zip_file = filename + \".zip\"\n",
    "            with open(zip_file, \"wb\") as f:\n",
    "                f.write(response.content)\n",
    "\n",
    "            # Unzip the file\n",
    "            with zipfile.ZipFile(zip_file, \"r\") as zip_ref:\n",
    "                zip_ref.extractall(filename)\n",
    "            \n",
    "            for table in tables:\n",
    "                parse_files_and_add_to_db(table, filename, columns[table])\n",
    "            connection.commit()\n",
    "\n",
    "            # Delete the zip file\n",
    "            shutil.rmtree(filename)\n",
    "            os.remove(zip_file)\n"
   ]
  },
  {
   "cell_type": "code",
   "execution_count": null,
   "metadata": {},
   "outputs": [],
   "source": [
    "sqlQuery = \"CREATE TABLE Accidents(Case_Num varchar(32), VEH_Num int, Occupation_Num int, Hit_Run int, VIN varchar(32), Model_Year varchar(32), Make int, Model int)\"\n",
    "\n",
    "sqlQuery2 = \"CREATE TABLE vpicdecode(CASENUM varchar(31),VEH_NO int,VehicleDescriptor varchar(255),VehicleTypeId int,VehicleType varchar(255),ManufacturerFullNameId int,ManufacturerFullName varchar(255),MakeId int,Make varchar(127),ModelId int,Model varchar(127),PlantCountryId int,PlantCountry varchar(63),PlantState varchar(63),PlantCity varchar(63),PlantCompanyName varchar(63),BasePrice dec, PRIMARY KEY (CASENUM, VEH_NO));\""
   ]
  }
 ],
 "metadata": {
  "kernelspec": {
   "display_name": "Python 3",
   "language": "python",
   "name": "python3"
  },
  "language_info": {
   "codemirror_mode": {
    "name": "ipython",
    "version": 3
   },
   "file_extension": ".py",
   "mimetype": "text/x-python",
   "name": "python",
   "nbconvert_exporter": "python",
   "pygments_lexer": "ipython3",
   "version": "3.11.6"
  }
 },
 "nbformat": 4,
 "nbformat_minor": 2
}
